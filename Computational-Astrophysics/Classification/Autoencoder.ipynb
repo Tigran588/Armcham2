{
 "cells": [
  {
   "cell_type": "code",
   "execution_count": 175,
   "metadata": {},
   "outputs": [],
   "source": [
    "import numpy as np\n",
    "import pandas as pd\n",
    "import seaborn as sns\n",
    "from sklearn.linear_model import LinearRegression\n",
    "import matplotlib.pyplot as plt\n",
    "from sklearn.model_selection import train_test_split\n",
    "from sklearn.feature_selection import RFE\n",
    "from sklearn.metrics import mean_squared_error, r2_score\n",
    "import os, fnmatch\n",
    "from sklearn.cluster import KMeans\n",
    "from sklearn.preprocessing import PolynomialFeatures \n",
    "import seaborn as sns\n",
    "%matplotlib inline"
   ]
  },
  {
   "cell_type": "code",
   "execution_count": 176,
   "metadata": {},
   "outputs": [],
   "source": [
    "all_spec_files = []\n",
    "listOfFiles = os.listdir('./spec')\n",
    "pattern = \"*.spec\"\n",
    "for entry in listOfFiles:\n",
    "    if fnmatch.fnmatch(entry, pattern):\n",
    "            all_spec_files.append(entry)"
   ]
  },
  {
   "cell_type": "code",
   "execution_count": 177,
   "metadata": {},
   "outputs": [],
   "source": [
    "class Spec:\n",
    "    arr_x = None\n",
    "    arr_y = None\n",
    "    obj_vector = None"
   ]
  },
  {
   "cell_type": "code",
   "execution_count": 178,
   "metadata": {},
   "outputs": [],
   "source": [
    "all_spec_objects = []\n",
    "\n",
    "for i in range(len(all_spec_files)):   \n",
    "    obj_spec = Spec()\n",
    "    obj_spec.arr_x = []\n",
    "    obj_spec.arr_y = []\n",
    "    obj_spec.obj_vector = []\n",
    "    index = 0\n",
    "    f = open(\"spec/\" + all_spec_files[i],'r')\n",
    "    for line in f:\n",
    "        if line[0] != \"#\":\n",
    "            obj_spec.arr_y.append(float(line.split(\" \")[2]))\n",
    "            obj_spec.arr_x.append(float(line.split(\" \")[4].split(\"\\n\")[0]))\n",
    "        elif (line[0] == \"#\" and line[1] != \"#\"):\n",
    "            if(line[0:3:] != \"# r\"):\n",
    "                str_arr = line.split(\" \")\n",
    "    #             print(str_arr)\n",
    "                if(index <= 6):\n",
    "                    if index == 4 or index == 5 :\n",
    "                        obj_spec.obj_vector.append(float(str_arr[-1].split(\"\\n\")[0]))\n",
    "                    else:\n",
    "                        obj_spec.obj_vector.append(str_arr[-1].split(\"\\n\")[0])\n",
    "                else:\n",
    "                    value = int(float(str_arr[-2]))\n",
    "                    obj_spec.obj_vector.append(value)\n",
    "\n",
    "                index += 1\n",
    "    all_spec_objects.append(obj_spec);"
   ]
  },
  {
   "cell_type": "code",
   "execution_count": 179,
   "metadata": {},
   "outputs": [
    {
     "name": "stdout",
     "output_type": "stream",
     "text": [
      "1008\n"
     ]
    }
   ],
   "source": [
    "print(len(all_spec_objects))"
   ]
  },
  {
   "cell_type": "code",
   "execution_count": 180,
   "metadata": {},
   "outputs": [
    {
     "name": "stdout",
     "output_type": "stream",
     "text": [
      "1008\n"
     ]
    }
   ],
   "source": [
    "print(len(all_spec_files))"
   ]
  },
  {
   "cell_type": "code",
   "execution_count": 181,
   "metadata": {},
   "outputs": [
    {
     "name": "stdout",
     "output_type": "stream",
     "text": [
      "[0.0, 0.06, 0.09, 0.13, 0.13, 0.04, -0.02, -0.09, -0.16, -0.27, -0.26, -0.06, 0.15, 0.5, 0.92, 1.58, 2.71, 4.03, 5.42, 6.67, 7.66, 8.29, 8.48, 8.25, 7.7, 7.42, 7.12, 7.02, 7.2, 7.25, 7.4, 7.39, 6.85, 6.58, 6.64, 6.47, 5.86, 5.7, 5.63, 5.21, 4.94, 5.2, 5.16, 4.41, 3.95, 3.86, 3.41, 2.81, 2.5, 2.56, 2.61, 2.51, 2.45, 2.47, 2.43, 2.47, 2.61, 2.76, 2.87, 2.97, 3.21, 3.61, 3.72, 3.79, 4.0, 3.48, 3.4, 3.59, 3.73, 3.69, 3.74, 4.14, 4.53, 4.48, 4.18, 4.08, 4.01, 3.6, 3.17, 2.87, 2.66, 2.48, 2.38, 2.42, 2.46, 2.52, 2.42, 2.35, 2.14, 1.75, 1.57, 1.58, 1.53, 1.41, 1.4, 1.32, 1.16, 0.97, 0.86, 0.89, 0.9, 0.61, 0.37, 0.46, 0.72, 0.78, 0.58, 0.62, 0.69, 0.35, 0.14, 0.31, 0.38, 0.25, 0.16, 0.23, 0.42, 0.45, 0.23, -0.03, -0.11, 0.0, 0.0, -0.01, 0.04, 0.1, 0.13, 0.01, -0.03, 0.09, -0.01, -0.15, -0.03, 0.08, 0.01, -0.03, 0.04, -0.01, -0.07, 0.05, 0.12, 0.09]\n"
     ]
    }
   ],
   "source": [
    "print(all_spec_objects[0].arr_y)"
   ]
  },
  {
   "cell_type": "code",
   "execution_count": 182,
   "metadata": {},
   "outputs": [],
   "source": [
    "min_wl = []\n",
    "max_wl = []\n",
    "for i in range(len(all_spec_objects)):\n",
    "    min_wl.append(all_spec_objects[i].arr_x[-1])\n",
    "    max_wl.append(all_spec_objects[i].arr_x[1])"
   ]
  },
  {
   "cell_type": "code",
   "execution_count": 183,
   "metadata": {},
   "outputs": [],
   "source": [
    "valid_wl_begin = min(max_wl)\n",
    "valid_wl_end = max(min_wl)"
   ]
  },
  {
   "cell_type": "code",
   "execution_count": 184,
   "metadata": {},
   "outputs": [
    {
     "name": "stdout",
     "output_type": "stream",
     "text": [
      "754.3\n",
      "331.6\n"
     ]
    }
   ],
   "source": [
    "print(valid_wl_begin)\n",
    "print(valid_wl_end)"
   ]
  },
  {
   "cell_type": "code",
   "execution_count": 185,
   "metadata": {},
   "outputs": [],
   "source": [
    "#begin_index = all_spec_objects[10].arr_x.index(valid_wl_begin);\n",
    "#end_index = all_spec_objects[10].arr_x.index(valid_wl_end);\n",
    "#print(begin_index)\n",
    "#print(end_index)"
   ]
  },
  {
   "cell_type": "code",
   "execution_count": 186,
   "metadata": {},
   "outputs": [],
   "source": [
    "#new_version = all_spec_objects[10].arr_x[begin_index : end_index + 1 :]"
   ]
  },
  {
   "cell_type": "code",
   "execution_count": 187,
   "metadata": {},
   "outputs": [],
   "source": [
    "for i in range(len(all_spec_objects)):\n",
    "    begin_index = all_spec_objects[i].arr_x.index(valid_wl_begin)\n",
    "    end_index = all_spec_objects[i].arr_x.index(valid_wl_end)\n",
    "    all_spec_objects[i].arr_x = all_spec_objects[i].arr_x[begin_index : end_index + 1 :]\n",
    "    all_spec_objects[i].arr_y = all_spec_objects[i].arr_y[begin_index : end_index + 1 :]\n",
    "    \n",
    "    "
   ]
  },
  {
   "cell_type": "code",
   "execution_count": 188,
   "metadata": {},
   "outputs": [
    {
     "name": "stdout",
     "output_type": "stream",
     "text": [
      "117\n"
     ]
    }
   ],
   "source": [
    "size = len(all_spec_objects[0].arr_x)\n",
    "curr_arr_x_ref = all_spec_objects[0].arr_x;\n",
    "print(size)\n",
    "count = 0\n",
    "for i in range(len(all_spec_objects)):\n",
    "    current_size_x = len(all_spec_objects[i].arr_x)\n",
    "    current_size_y = len(all_spec_objects[i].arr_y)\n",
    "    if current_size_x == current_size_y and current_size_x == size:\n",
    "        result = True\n",
    "        for j in range(len(curr_arr_x_ref)):\n",
    "            if curr_arr_x_ref[j] != all_spec_objects[i].arr_x[j]:\n",
    "                result = False\n",
    "        if result:\n",
    "            count += 1\n",
    "        "
   ]
  },
  {
   "cell_type": "code",
   "execution_count": 189,
   "metadata": {},
   "outputs": [
    {
     "name": "stdout",
     "output_type": "stream",
     "text": [
      "1008\n"
     ]
    }
   ],
   "source": [
    "print(count)"
   ]
  },
  {
   "cell_type": "code",
   "execution_count": 190,
   "metadata": {},
   "outputs": [],
   "source": [
    "result_list = []\n",
    "for i in range(len(all_spec_objects)):\n",
    "    all_spec_objects[i].arr_y.append(all_spec_objects[i].obj_vector[1])\n",
    "    result_list.append(all_spec_objects[i].arr_y)"
   ]
  },
  {
   "cell_type": "code",
   "execution_count": 191,
   "metadata": {},
   "outputs": [
    {
     "data": {
      "text/plain": [
       "1008"
      ]
     },
     "execution_count": 191,
     "metadata": {},
     "output_type": "execute_result"
    }
   ],
   "source": [
    "len(result_list)"
   ]
  },
  {
   "cell_type": "code",
   "execution_count": 192,
   "metadata": {},
   "outputs": [],
   "source": [
    "data = pd.DataFrame(result_list)"
   ]
  },
  {
   "cell_type": "code",
   "execution_count": 193,
   "metadata": {},
   "outputs": [
    {
     "data": {
      "text/html": [
       "<div>\n",
       "<style scoped>\n",
       "    .dataframe tbody tr th:only-of-type {\n",
       "        vertical-align: middle;\n",
       "    }\n",
       "\n",
       "    .dataframe tbody tr th {\n",
       "        vertical-align: top;\n",
       "    }\n",
       "\n",
       "    .dataframe thead th {\n",
       "        text-align: right;\n",
       "    }\n",
       "</style>\n",
       "<table border=\"1\" class=\"dataframe\">\n",
       "  <thead>\n",
       "    <tr style=\"text-align: right;\">\n",
       "      <th></th>\n",
       "      <th>0</th>\n",
       "      <th>1</th>\n",
       "      <th>2</th>\n",
       "      <th>3</th>\n",
       "      <th>4</th>\n",
       "      <th>5</th>\n",
       "      <th>6</th>\n",
       "      <th>7</th>\n",
       "      <th>8</th>\n",
       "      <th>9</th>\n",
       "      <th>...</th>\n",
       "      <th>108</th>\n",
       "      <th>109</th>\n",
       "      <th>110</th>\n",
       "      <th>111</th>\n",
       "      <th>112</th>\n",
       "      <th>113</th>\n",
       "      <th>114</th>\n",
       "      <th>115</th>\n",
       "      <th>116</th>\n",
       "      <th>117</th>\n",
       "    </tr>\n",
       "  </thead>\n",
       "  <tbody>\n",
       "    <tr>\n",
       "      <td>0</td>\n",
       "      <td>0.15</td>\n",
       "      <td>0.50</td>\n",
       "      <td>0.92</td>\n",
       "      <td>1.58</td>\n",
       "      <td>2.71</td>\n",
       "      <td>4.03</td>\n",
       "      <td>5.42</td>\n",
       "      <td>6.67</td>\n",
       "      <td>7.66</td>\n",
       "      <td>8.29</td>\n",
       "      <td>...</td>\n",
       "      <td>-0.11</td>\n",
       "      <td>0.00</td>\n",
       "      <td>0.00</td>\n",
       "      <td>-0.01</td>\n",
       "      <td>0.04</td>\n",
       "      <td>0.10</td>\n",
       "      <td>0.13</td>\n",
       "      <td>0.01</td>\n",
       "      <td>-0.03</td>\n",
       "      <td>DFBSJ142114.64+425823.6</td>\n",
       "    </tr>\n",
       "    <tr>\n",
       "      <td>1</td>\n",
       "      <td>0.15</td>\n",
       "      <td>0.37</td>\n",
       "      <td>1.11</td>\n",
       "      <td>2.54</td>\n",
       "      <td>4.54</td>\n",
       "      <td>7.08</td>\n",
       "      <td>10.33</td>\n",
       "      <td>13.98</td>\n",
       "      <td>16.99</td>\n",
       "      <td>17.65</td>\n",
       "      <td>...</td>\n",
       "      <td>0.11</td>\n",
       "      <td>0.19</td>\n",
       "      <td>0.19</td>\n",
       "      <td>0.18</td>\n",
       "      <td>0.06</td>\n",
       "      <td>0.09</td>\n",
       "      <td>0.20</td>\n",
       "      <td>0.15</td>\n",
       "      <td>-0.01</td>\n",
       "      <td>DFBSJ142122.01+425921.3</td>\n",
       "    </tr>\n",
       "    <tr>\n",
       "      <td>2</td>\n",
       "      <td>2.06</td>\n",
       "      <td>2.36</td>\n",
       "      <td>2.48</td>\n",
       "      <td>2.40</td>\n",
       "      <td>2.06</td>\n",
       "      <td>1.83</td>\n",
       "      <td>2.01</td>\n",
       "      <td>2.32</td>\n",
       "      <td>2.38</td>\n",
       "      <td>2.28</td>\n",
       "      <td>...</td>\n",
       "      <td>-0.05</td>\n",
       "      <td>0.05</td>\n",
       "      <td>0.10</td>\n",
       "      <td>0.05</td>\n",
       "      <td>-0.05</td>\n",
       "      <td>-0.10</td>\n",
       "      <td>-0.08</td>\n",
       "      <td>-0.04</td>\n",
       "      <td>0.06</td>\n",
       "      <td>DFBSJ142125.68+425138.2</td>\n",
       "    </tr>\n",
       "    <tr>\n",
       "      <td>3</td>\n",
       "      <td>-0.05</td>\n",
       "      <td>0.11</td>\n",
       "      <td>0.52</td>\n",
       "      <td>1.08</td>\n",
       "      <td>1.80</td>\n",
       "      <td>2.50</td>\n",
       "      <td>3.31</td>\n",
       "      <td>4.63</td>\n",
       "      <td>5.95</td>\n",
       "      <td>5.94</td>\n",
       "      <td>...</td>\n",
       "      <td>0.39</td>\n",
       "      <td>0.20</td>\n",
       "      <td>0.10</td>\n",
       "      <td>0.27</td>\n",
       "      <td>0.45</td>\n",
       "      <td>0.34</td>\n",
       "      <td>0.19</td>\n",
       "      <td>0.21</td>\n",
       "      <td>0.21</td>\n",
       "      <td>DFBSJ142126.80+425301.4</td>\n",
       "    </tr>\n",
       "    <tr>\n",
       "      <td>4</td>\n",
       "      <td>0.13</td>\n",
       "      <td>0.09</td>\n",
       "      <td>0.01</td>\n",
       "      <td>0.09</td>\n",
       "      <td>0.24</td>\n",
       "      <td>0.31</td>\n",
       "      <td>0.35</td>\n",
       "      <td>0.36</td>\n",
       "      <td>0.47</td>\n",
       "      <td>0.53</td>\n",
       "      <td>...</td>\n",
       "      <td>-0.10</td>\n",
       "      <td>0.01</td>\n",
       "      <td>0.10</td>\n",
       "      <td>0.01</td>\n",
       "      <td>-0.25</td>\n",
       "      <td>-0.32</td>\n",
       "      <td>-0.11</td>\n",
       "      <td>0.11</td>\n",
       "      <td>0.19</td>\n",
       "      <td>DFBSJ142141.43+430014.5</td>\n",
       "    </tr>\n",
       "  </tbody>\n",
       "</table>\n",
       "<p>5 rows × 118 columns</p>\n",
       "</div>"
      ],
      "text/plain": [
       "    0     1     2     3     4     5      6      7      8      9    ...   108  \\\n",
       "0  0.15  0.50  0.92  1.58  2.71  4.03   5.42   6.67   7.66   8.29  ... -0.11   \n",
       "1  0.15  0.37  1.11  2.54  4.54  7.08  10.33  13.98  16.99  17.65  ...  0.11   \n",
       "2  2.06  2.36  2.48  2.40  2.06  1.83   2.01   2.32   2.38   2.28  ... -0.05   \n",
       "3 -0.05  0.11  0.52  1.08  1.80  2.50   3.31   4.63   5.95   5.94  ...  0.39   \n",
       "4  0.13  0.09  0.01  0.09  0.24  0.31   0.35   0.36   0.47   0.53  ... -0.10   \n",
       "\n",
       "    109   110   111   112   113   114   115   116                      117  \n",
       "0  0.00  0.00 -0.01  0.04  0.10  0.13  0.01 -0.03  DFBSJ142114.64+425823.6  \n",
       "1  0.19  0.19  0.18  0.06  0.09  0.20  0.15 -0.01  DFBSJ142122.01+425921.3  \n",
       "2  0.05  0.10  0.05 -0.05 -0.10 -0.08 -0.04  0.06  DFBSJ142125.68+425138.2  \n",
       "3  0.20  0.10  0.27  0.45  0.34  0.19  0.21  0.21  DFBSJ142126.80+425301.4  \n",
       "4  0.01  0.10  0.01 -0.25 -0.32 -0.11  0.11  0.19  DFBSJ142141.43+430014.5  \n",
       "\n",
       "[5 rows x 118 columns]"
      ]
     },
     "execution_count": 193,
     "metadata": {},
     "output_type": "execute_result"
    }
   ],
   "source": [
    "data.head()"
   ]
  },
  {
   "cell_type": "code",
   "execution_count": 195,
   "metadata": {},
   "outputs": [],
   "source": [
    "cols = all_spec_objects[0].arr_x.copy()"
   ]
  },
  {
   "cell_type": "code",
   "execution_count": 196,
   "metadata": {},
   "outputs": [],
   "source": [
    "cols.append(\"Id\")"
   ]
  },
  {
   "cell_type": "code",
   "execution_count": 197,
   "metadata": {},
   "outputs": [],
   "source": [
    "data.columns = cols"
   ]
  },
  {
   "cell_type": "code",
   "execution_count": 198,
   "metadata": {},
   "outputs": [
    {
     "data": {
      "text/html": [
       "<div>\n",
       "<style scoped>\n",
       "    .dataframe tbody tr th:only-of-type {\n",
       "        vertical-align: middle;\n",
       "    }\n",
       "\n",
       "    .dataframe tbody tr th {\n",
       "        vertical-align: top;\n",
       "    }\n",
       "\n",
       "    .dataframe thead th {\n",
       "        text-align: right;\n",
       "    }\n",
       "</style>\n",
       "<table border=\"1\" class=\"dataframe\">\n",
       "  <thead>\n",
       "    <tr style=\"text-align: right;\">\n",
       "      <th></th>\n",
       "      <th>754.3</th>\n",
       "      <th>740.2</th>\n",
       "      <th>726.7</th>\n",
       "      <th>713.9</th>\n",
       "      <th>701.7</th>\n",
       "      <th>690.0</th>\n",
       "      <th>678.9</th>\n",
       "      <th>668.2</th>\n",
       "      <th>658.0</th>\n",
       "      <th>648.2</th>\n",
       "      <th>...</th>\n",
       "      <th>339.3</th>\n",
       "      <th>338.3</th>\n",
       "      <th>337.3</th>\n",
       "      <th>336.3</th>\n",
       "      <th>335.4</th>\n",
       "      <th>334.4</th>\n",
       "      <th>333.5</th>\n",
       "      <th>332.5</th>\n",
       "      <th>331.6</th>\n",
       "      <th>Id</th>\n",
       "    </tr>\n",
       "  </thead>\n",
       "  <tbody>\n",
       "    <tr>\n",
       "      <td>0</td>\n",
       "      <td>0.15</td>\n",
       "      <td>0.50</td>\n",
       "      <td>0.92</td>\n",
       "      <td>1.58</td>\n",
       "      <td>2.71</td>\n",
       "      <td>4.03</td>\n",
       "      <td>5.42</td>\n",
       "      <td>6.67</td>\n",
       "      <td>7.66</td>\n",
       "      <td>8.29</td>\n",
       "      <td>...</td>\n",
       "      <td>-0.11</td>\n",
       "      <td>0.00</td>\n",
       "      <td>0.00</td>\n",
       "      <td>-0.01</td>\n",
       "      <td>0.04</td>\n",
       "      <td>0.10</td>\n",
       "      <td>0.13</td>\n",
       "      <td>0.01</td>\n",
       "      <td>-0.03</td>\n",
       "      <td>DFBSJ142114.64+425823.6</td>\n",
       "    </tr>\n",
       "    <tr>\n",
       "      <td>1</td>\n",
       "      <td>0.15</td>\n",
       "      <td>0.37</td>\n",
       "      <td>1.11</td>\n",
       "      <td>2.54</td>\n",
       "      <td>4.54</td>\n",
       "      <td>7.08</td>\n",
       "      <td>10.33</td>\n",
       "      <td>13.98</td>\n",
       "      <td>16.99</td>\n",
       "      <td>17.65</td>\n",
       "      <td>...</td>\n",
       "      <td>0.11</td>\n",
       "      <td>0.19</td>\n",
       "      <td>0.19</td>\n",
       "      <td>0.18</td>\n",
       "      <td>0.06</td>\n",
       "      <td>0.09</td>\n",
       "      <td>0.20</td>\n",
       "      <td>0.15</td>\n",
       "      <td>-0.01</td>\n",
       "      <td>DFBSJ142122.01+425921.3</td>\n",
       "    </tr>\n",
       "    <tr>\n",
       "      <td>2</td>\n",
       "      <td>2.06</td>\n",
       "      <td>2.36</td>\n",
       "      <td>2.48</td>\n",
       "      <td>2.40</td>\n",
       "      <td>2.06</td>\n",
       "      <td>1.83</td>\n",
       "      <td>2.01</td>\n",
       "      <td>2.32</td>\n",
       "      <td>2.38</td>\n",
       "      <td>2.28</td>\n",
       "      <td>...</td>\n",
       "      <td>-0.05</td>\n",
       "      <td>0.05</td>\n",
       "      <td>0.10</td>\n",
       "      <td>0.05</td>\n",
       "      <td>-0.05</td>\n",
       "      <td>-0.10</td>\n",
       "      <td>-0.08</td>\n",
       "      <td>-0.04</td>\n",
       "      <td>0.06</td>\n",
       "      <td>DFBSJ142125.68+425138.2</td>\n",
       "    </tr>\n",
       "    <tr>\n",
       "      <td>3</td>\n",
       "      <td>-0.05</td>\n",
       "      <td>0.11</td>\n",
       "      <td>0.52</td>\n",
       "      <td>1.08</td>\n",
       "      <td>1.80</td>\n",
       "      <td>2.50</td>\n",
       "      <td>3.31</td>\n",
       "      <td>4.63</td>\n",
       "      <td>5.95</td>\n",
       "      <td>5.94</td>\n",
       "      <td>...</td>\n",
       "      <td>0.39</td>\n",
       "      <td>0.20</td>\n",
       "      <td>0.10</td>\n",
       "      <td>0.27</td>\n",
       "      <td>0.45</td>\n",
       "      <td>0.34</td>\n",
       "      <td>0.19</td>\n",
       "      <td>0.21</td>\n",
       "      <td>0.21</td>\n",
       "      <td>DFBSJ142126.80+425301.4</td>\n",
       "    </tr>\n",
       "    <tr>\n",
       "      <td>4</td>\n",
       "      <td>0.13</td>\n",
       "      <td>0.09</td>\n",
       "      <td>0.01</td>\n",
       "      <td>0.09</td>\n",
       "      <td>0.24</td>\n",
       "      <td>0.31</td>\n",
       "      <td>0.35</td>\n",
       "      <td>0.36</td>\n",
       "      <td>0.47</td>\n",
       "      <td>0.53</td>\n",
       "      <td>...</td>\n",
       "      <td>-0.10</td>\n",
       "      <td>0.01</td>\n",
       "      <td>0.10</td>\n",
       "      <td>0.01</td>\n",
       "      <td>-0.25</td>\n",
       "      <td>-0.32</td>\n",
       "      <td>-0.11</td>\n",
       "      <td>0.11</td>\n",
       "      <td>0.19</td>\n",
       "      <td>DFBSJ142141.43+430014.5</td>\n",
       "    </tr>\n",
       "  </tbody>\n",
       "</table>\n",
       "<p>5 rows × 118 columns</p>\n",
       "</div>"
      ],
      "text/plain": [
       "   754.3  740.2  726.7  713.9  701.7  690.0  678.9  668.2  658.0  648.2  ...  \\\n",
       "0   0.15   0.50   0.92   1.58   2.71   4.03   5.42   6.67   7.66   8.29  ...   \n",
       "1   0.15   0.37   1.11   2.54   4.54   7.08  10.33  13.98  16.99  17.65  ...   \n",
       "2   2.06   2.36   2.48   2.40   2.06   1.83   2.01   2.32   2.38   2.28  ...   \n",
       "3  -0.05   0.11   0.52   1.08   1.80   2.50   3.31   4.63   5.95   5.94  ...   \n",
       "4   0.13   0.09   0.01   0.09   0.24   0.31   0.35   0.36   0.47   0.53  ...   \n",
       "\n",
       "   339.3  338.3  337.3  336.3  335.4  334.4  333.5  332.5  331.6  \\\n",
       "0  -0.11   0.00   0.00  -0.01   0.04   0.10   0.13   0.01  -0.03   \n",
       "1   0.11   0.19   0.19   0.18   0.06   0.09   0.20   0.15  -0.01   \n",
       "2  -0.05   0.05   0.10   0.05  -0.05  -0.10  -0.08  -0.04   0.06   \n",
       "3   0.39   0.20   0.10   0.27   0.45   0.34   0.19   0.21   0.21   \n",
       "4  -0.10   0.01   0.10   0.01  -0.25  -0.32  -0.11   0.11   0.19   \n",
       "\n",
       "                        Id  \n",
       "0  DFBSJ142114.64+425823.6  \n",
       "1  DFBSJ142122.01+425921.3  \n",
       "2  DFBSJ142125.68+425138.2  \n",
       "3  DFBSJ142126.80+425301.4  \n",
       "4  DFBSJ142141.43+430014.5  \n",
       "\n",
       "[5 rows x 118 columns]"
      ]
     },
     "execution_count": 198,
     "metadata": {},
     "output_type": "execute_result"
    }
   ],
   "source": [
    "data.head()"
   ]
  },
  {
   "cell_type": "code",
   "execution_count": 199,
   "metadata": {},
   "outputs": [],
   "source": [
    "data.to_csv(\"spectral_functions.csv\")"
   ]
  },
  {
   "cell_type": "code",
   "execution_count": null,
   "metadata": {},
   "outputs": [],
   "source": []
  }
 ],
 "metadata": {
  "kernelspec": {
   "display_name": "Python 3",
   "language": "python",
   "name": "python3"
  },
  "language_info": {
   "codemirror_mode": {
    "name": "ipython",
    "version": 3
   },
   "file_extension": ".py",
   "mimetype": "text/x-python",
   "name": "python",
   "nbconvert_exporter": "python",
   "pygments_lexer": "ipython3",
   "version": "3.7.4"
  }
 },
 "nbformat": 4,
 "nbformat_minor": 2
}
