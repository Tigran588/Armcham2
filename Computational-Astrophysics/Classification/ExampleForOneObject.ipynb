{
 "cells": [
  {
   "cell_type": "code",
   "execution_count": 313,
   "metadata": {},
   "outputs": [],
   "source": [
    "import numpy as np\n",
    "import pandas as pd\n",
    "import seaborn as sns\n",
    "from sklearn.linear_model import LinearRegression\n",
    "import matplotlib.pyplot as plt\n",
    "from sklearn.model_selection import train_test_split\n",
    "from sklearn.feature_selection import RFE\n",
    "from sklearn.metrics import mean_squared_error, r2_score\n",
    "import os, fnmatch\n",
    "from sklearn.cluster import KMeans\n",
    "from sklearn.preprocessing import PolynomialFeatures \n",
    "import seaborn as sns\n",
    "%matplotlib inline"
   ]
  },
  {
   "cell_type": "code",
   "execution_count": 314,
   "metadata": {},
   "outputs": [],
   "source": [
    "all_spec_files = []\n",
    "listOfFiles = os.listdir('./spec')\n",
    "pattern = \"*.spec\"\n",
    "for entry in listOfFiles:\n",
    "    if fnmatch.fnmatch(entry, pattern):\n",
    "            all_spec_files.append(entry)\n",
    "\n",
    "all_fits_files = []\n",
    "listOfFiles = os.listdir('./specimages')\n",
    "pattern = \"*.fits\"\n",
    "for entry in listOfFiles:\n",
    "    if fnmatch.fnmatch(entry, pattern):\n",
    "            all_fits_files.append(entry)\n",
    "            \n",
    "            \n",
    "all_spec_files.sort()\n",
    "all_fits_files.sort()"
   ]
  },
  {
   "cell_type": "code",
   "execution_count": 315,
   "metadata": {},
   "outputs": [],
   "source": [
    "def find_id(item_id, id_list):\n",
    "    for item in id_list:\n",
    "        if item.split(\".fits\")[0] == item_id.split(\".spec\")[0]:\n",
    "            return True\n",
    "    return False"
   ]
  },
  {
   "cell_type": "code",
   "execution_count": 316,
   "metadata": {},
   "outputs": [
    {
     "name": "stdout",
     "output_type": "stream",
     "text": [
      "['fbs0006', 'DFBSJ144150.64+430212.2', '14:41:50.640', '+43:02:12.20', 16.75, 15.77, 'U', 79, 20]\n"
     ]
    }
   ],
   "source": [
    "obj_vector = []\n",
    "index = 0\n",
    "arr_x = []\n",
    "arr_y = []\n",
    "f = open(\"spec/fbs0006-DFBSJ144150.64+430212.2.spec\",'r')\n",
    "for line in f:\n",
    "    if line[0] != \"#\":\n",
    "        arr_y.append(float(line.split(\" \")[2]))\n",
    "        arr_x.append(float(line.split(\" \")[4].split(\"\\n\")[0]))\n",
    "    elif (line[0] == \"#\" and line[1] != \"#\"):\n",
    "        if(line[0:3:] != \"# r\"):\n",
    "            str_arr = line.split(\" \")\n",
    "#             print(str_arr)\n",
    "            if(index <= 6):\n",
    "                if index == 4 or index == 5 :\n",
    "                    obj_vector.append(float(str_arr[-1].split(\"\\n\")[0]))\n",
    "                else:\n",
    "                    obj_vector.append(str_arr[-1].split(\"\\n\")[0])\n",
    "            else:\n",
    "                value = int(float(str_arr[-2]))\n",
    "                obj_vector.append(value)\n",
    "                \n",
    "            index += 1\n",
    "    \n",
    "print(obj_vector)"
   ]
  },
  {
   "cell_type": "code",
   "execution_count": 317,
   "metadata": {},
   "outputs": [],
   "source": [
    "df = pd.DataFrame({\"wl\":arr_x, \"in\":arr_y})"
   ]
  },
  {
   "cell_type": "code",
   "execution_count": 318,
   "metadata": {},
   "outputs": [
    {
     "data": {
      "text/html": [
       "<div>\n",
       "<style scoped>\n",
       "    .dataframe tbody tr th:only-of-type {\n",
       "        vertical-align: middle;\n",
       "    }\n",
       "\n",
       "    .dataframe tbody tr th {\n",
       "        vertical-align: top;\n",
       "    }\n",
       "\n",
       "    .dataframe thead th {\n",
       "        text-align: right;\n",
       "    }\n",
       "</style>\n",
       "<table border=\"1\" class=\"dataframe\">\n",
       "  <thead>\n",
       "    <tr style=\"text-align: right;\">\n",
       "      <th></th>\n",
       "      <th>wl</th>\n",
       "      <th>in</th>\n",
       "    </tr>\n",
       "  </thead>\n",
       "  <tbody>\n",
       "    <tr>\n",
       "      <td>0</td>\n",
       "      <td>1149.3</td>\n",
       "      <td>0.00</td>\n",
       "    </tr>\n",
       "    <tr>\n",
       "      <td>1</td>\n",
       "      <td>1109.1</td>\n",
       "      <td>0.18</td>\n",
       "    </tr>\n",
       "    <tr>\n",
       "      <td>2</td>\n",
       "      <td>1072.1</td>\n",
       "      <td>0.20</td>\n",
       "    </tr>\n",
       "    <tr>\n",
       "      <td>3</td>\n",
       "      <td>1038.0</td>\n",
       "      <td>0.09</td>\n",
       "    </tr>\n",
       "    <tr>\n",
       "      <td>4</td>\n",
       "      <td>1006.5</td>\n",
       "      <td>0.02</td>\n",
       "    </tr>\n",
       "    <tr>\n",
       "      <td>...</td>\n",
       "      <td>...</td>\n",
       "      <td>...</td>\n",
       "    </tr>\n",
       "    <tr>\n",
       "      <td>137</td>\n",
       "      <td>327.2</td>\n",
       "      <td>-0.05</td>\n",
       "    </tr>\n",
       "    <tr>\n",
       "      <td>138</td>\n",
       "      <td>326.3</td>\n",
       "      <td>-0.10</td>\n",
       "    </tr>\n",
       "    <tr>\n",
       "      <td>139</td>\n",
       "      <td>325.5</td>\n",
       "      <td>-0.08</td>\n",
       "    </tr>\n",
       "    <tr>\n",
       "      <td>140</td>\n",
       "      <td>324.7</td>\n",
       "      <td>0.01</td>\n",
       "    </tr>\n",
       "    <tr>\n",
       "      <td>141</td>\n",
       "      <td>323.8</td>\n",
       "      <td>0.08</td>\n",
       "    </tr>\n",
       "  </tbody>\n",
       "</table>\n",
       "<p>142 rows × 2 columns</p>\n",
       "</div>"
      ],
      "text/plain": [
       "         wl    in\n",
       "0    1149.3  0.00\n",
       "1    1109.1  0.18\n",
       "2    1072.1  0.20\n",
       "3    1038.0  0.09\n",
       "4    1006.5  0.02\n",
       "..      ...   ...\n",
       "137   327.2 -0.05\n",
       "138   326.3 -0.10\n",
       "139   325.5 -0.08\n",
       "140   324.7  0.01\n",
       "141   323.8  0.08\n",
       "\n",
       "[142 rows x 2 columns]"
      ]
     },
     "execution_count": 318,
     "metadata": {},
     "output_type": "execute_result"
    }
   ],
   "source": [
    "df"
   ]
  },
  {
   "cell_type": "code",
   "execution_count": 319,
   "metadata": {},
   "outputs": [
    {
     "name": "stderr",
     "output_type": "stream",
     "text": [
      "/Users/ghevondgevorgyan/opt/anaconda3/lib/python3.7/site-packages/seaborn/axisgrid.py:2065: UserWarning: The `size` parameter has been renamed to `height`; pleaes update your code.\n",
      "  warnings.warn(msg, UserWarning)\n"
     ]
    },
    {
     "data": {
      "text/plain": [
       "<seaborn.axisgrid.PairGrid at 0x1a28071f90>"
      ]
     },
     "execution_count": 319,
     "metadata": {},
     "output_type": "execute_result"
    },
    {
     "data": {
      "image/png": "[encoded data removed]",
      "text/plain": [
       "<Figure size 856.8x504 with 1 Axes>"
      ]
     },
     "metadata": {
      "needs_background": "light"
     },
     "output_type": "display_data"
    }
   ],
   "source": [
    "sns.pairplot(df, x_vars = [\"wl\"], y_vars = [\"in\"], size = 7, aspect = 1.7, kind = \"scatter\")"
   ]
  },
  {
   "cell_type": "code",
   "execution_count": 320,
   "metadata": {},
   "outputs": [
    {
     "data": {
      "text/plain": [
       "LinearRegression(copy_X=True, fit_intercept=True, n_jobs=None, normalize=False)"
      ]
     },
     "execution_count": 320,
     "metadata": {},
     "output_type": "execute_result"
    }
   ],
   "source": [
    "X = df[\"wl\"]\n",
    "Y = df[\"in\"]\n",
    "\n",
    "\n",
    "X = X[:, np.newaxis]\n",
    "\n",
    "poly = PolynomialFeatures(degree = 8) \n",
    "X_poly = poly.fit_transform(X) \n",
    "\n",
    "poly.fit(X_poly, Y) \n",
    "lin2 = LinearRegression() \n",
    "lin2.fit(X_poly, Y) "
   ]
  },
  {
   "cell_type": "code",
   "execution_count": 321,
   "metadata": {},
   "outputs": [
    {
     "data": {
      "text/plain": [
       "Text(0, 0.5, 'Pressure')"
      ]
     },
     "execution_count": 321,
     "metadata": {},
     "output_type": "execute_result"
    },
    {
     "data": {
      "image/png": "[encoded data removed]",
      "text/plain": [
       "<Figure size 432x288 with 1 Axes>"
      ]
     },
     "metadata": {
      "needs_background": "light"
     },
     "output_type": "display_data"
    }
   ],
   "source": [
    "plt.scatter(X, Y, color = 'blue') \n",
    "  \n",
    "plt.plot(X, lin2.predict(poly.fit_transform(X)), color = 'red') \n",
    "plt.title('Polynomial Regression') \n",
    "plt.xlabel('Temperature') \n",
    "plt.ylabel('Pressure') \n",
    "  "
   ]
  },
  {
   "cell_type": "code",
   "execution_count": 322,
   "metadata": {},
   "outputs": [
    {
     "name": "stdout",
     "output_type": "stream",
     "text": [
      "['fbs0006', 'DFBSJ144150.64+430212.2', '14:41:50.640', '+43:02:12.20', 16.75, 15.77, 'U', 79, 20]\n"
     ]
    }
   ],
   "source": [
    "\n",
    "print(obj_vector)"
   ]
  },
  {
   "cell_type": "code",
   "execution_count": 323,
   "metadata": {},
   "outputs": [],
   "source": [
    "for coef in lin2.coef_[1:9:]:\n",
    "    obj_vector.append(coef)"
   ]
  },
  {
   "cell_type": "code",
   "execution_count": 324,
   "metadata": {},
   "outputs": [
    {
     "name": "stdout",
     "output_type": "stream",
     "text": [
      "['fbs0006', 'DFBSJ144150.64+430212.2', '14:41:50.640', '+43:02:12.20', 16.75, 15.77, 'U', 79, 20, -8.669999229139874e-14, -6.870182546405393e-16, -3.213101497093818e-13, -5.7509833138649285e-11, 4.272470141148914e-13, -9.41995788584048e-16, 8.291560792281035e-19, -2.567707917893629e-22]\n"
     ]
    }
   ],
   "source": [
    "print(obj_vector)"
   ]
  },
  {
   "cell_type": "code",
   "execution_count": null,
   "metadata": {},
   "outputs": [],
   "source": []
  }
 ],
 "metadata": {
  "kernelspec": {
   "display_name": "Python 3",
   "language": "python",
   "name": "python3"
  },
  "language_info": {
   "codemirror_mode": {
    "name": "ipython",
    "version": 3
   },
   "file_extension": ".py",
   "mimetype": "text/x-python",
   "name": "python",
   "nbconvert_exporter": "python",
   "pygments_lexer": "ipython3",
   "version": "3.7.4"
  }
 },
 "nbformat": 4,
 "nbformat_minor": 2
}
