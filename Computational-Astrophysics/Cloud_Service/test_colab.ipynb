{
  "nbformat": 4,
  "nbformat_minor": 0,
  "metadata": {
    "colab": {
      "provenance": [],
      "gpuType": "T4",
      "include_colab_link": true
    },
    "kernelspec": {
      "name": "python3",
      "display_name": "Python 3"
    },
    "language_info": {
      "name": "python"
    },
    "accelerator": "GPU"
  },
  "cells": [
    {
      "cell_type": "markdown",
      "metadata": {
        "id": "view-in-github",
        "colab_type": "text"
      },
      "source": [
        "<a href=\"https://colab.research.google.com/github/ArmHPC/Computational-Astrophysics/blob/main/Cloud_Service/test_colab.ipynb\" target=\"_parent\"><img src=\"https://colab.research.google.com/assets/colab-badge.svg\" alt=\"Open In Colab\"/></a>"
      ]
    },
    {
      "cell_type": "markdown",
      "source": [
        "## Clone Repository"
      ],
      "metadata": {
        "id": "CfrjY2P2f6md"
      }
    },
    {
      "cell_type": "code",
      "execution_count": 1,
      "metadata": {
        "id": "7PDkmcJ2yw_w",
        "outputId": "b02f3ba2-0ae8-482d-f280-07af3b317f00",
        "colab": {
          "base_uri": "https://localhost:8080/"
        }
      },
      "outputs": [
        {
          "output_type": "stream",
          "name": "stdout",
          "text": [
            "Cloning into 'Computational-Astrophysics'...\n",
            "remote: Enumerating objects: 101, done.\u001b[K\n",
            "remote: Counting objects: 100% (29/29), done.\u001b[K\n",
            "remote: Compressing objects: 100% (23/23), done.\u001b[K\n",
            "remote: Total 101 (delta 5), reused 23 (delta 4), pack-reused 72\u001b[K\n",
            "Receiving objects: 100% (101/101), 94.62 MiB | 15.04 MiB/s, done.\n",
            "Resolving deltas: 100% (26/26), done.\n"
          ]
        }
      ],
      "source": [
        "!git clone https://github.com/ArmHPC/Computational-Astrophysics.git"
      ]
    },
    {
      "cell_type": "markdown",
      "source": [
        "## Setup Environment"
      ],
      "metadata": {
        "id": "znKlNicrf-sj"
      }
    },
    {
      "cell_type": "code",
      "source": [
        "mv ./Computational-Astrophysics/ ./Project/"
      ],
      "metadata": {
        "id": "RFHOd3ALy0QO"
      },
      "execution_count": 2,
      "outputs": []
    },
    {
      "cell_type": "code",
      "source": [
        "cd Project"
      ],
      "metadata": {
        "id": "BGL_XGaqy9bL",
        "outputId": "6ee27d03-e7f9-4c1e-b70f-c226c217046c",
        "colab": {
          "base_uri": "https://localhost:8080/"
        }
      },
      "execution_count": 3,
      "outputs": [
        {
          "output_type": "stream",
          "name": "stdout",
          "text": [
            "/content/Project\n"
          ]
        }
      ]
    },
    {
      "cell_type": "code",
      "source": [
        "mv ./Cloud_Service/ ./Model/"
      ],
      "metadata": {
        "id": "-W1K0XkAL5bD"
      },
      "execution_count": 4,
      "outputs": []
    },
    {
      "cell_type": "code",
      "source": [
        "cd Model/"
      ],
      "metadata": {
        "id": "VdDbrBbiL7tF",
        "outputId": "defbfa2d-be6a-45ae-8966-a1d4679083e5",
        "colab": {
          "base_uri": "https://localhost:8080/"
        }
      },
      "execution_count": 5,
      "outputs": [
        {
          "output_type": "stream",
          "name": "stdout",
          "text": [
            "/content/Project/Model\n"
          ]
        }
      ]
    },
    {
      "cell_type": "code",
      "source": [
        "# !git pull"
      ],
      "metadata": {
        "id": "ipZcn9b2noJ9"
      },
      "execution_count": 6,
      "outputs": []
    },
    {
      "cell_type": "markdown",
      "source": [
        "## Additional Environment Setups"
      ],
      "metadata": {
        "id": "vQtEDBepgJuW"
      }
    },
    {
      "cell_type": "code",
      "source": [
        "import zipfile\n",
        "with zipfile.ZipFile('./data.zip', 'r') as zip_ref:\n",
        "    zip_ref.extractall('')\n",
        "\n",
        "with zipfile.ZipFile('./Checkpoint.zip', 'r') as zip_ref:\n",
        "    zip_ref.extractall('')"
      ],
      "metadata": {
        "id": "Q7lIIIumY7pS"
      },
      "execution_count": 7,
      "outputs": []
    },
    {
      "cell_type": "code",
      "source": [
        "import sys\n",
        "sys.path.append('Model/')"
      ],
      "metadata": {
        "id": "eRL0rty4Xhz0"
      },
      "execution_count": 8,
      "outputs": []
    },
    {
      "cell_type": "markdown",
      "source": [
        "## Imports"
      ],
      "metadata": {
        "id": "G4x-mIUGgPYJ"
      }
    },
    {
      "cell_type": "code",
      "source": [
        "import os\n",
        "import shutil\n",
        "\n",
        "import torch.optim\n",
        "from torchsummary import summary\n",
        "\n",
        "import load_data\n",
        "import models\n",
        "from Project.Model.test import evaluate\n",
        "from _helpers import make_directory\n",
        "\n",
        "from sklearn.metrics import classification_report"
      ],
      "metadata": {
        "id": "MwFJPUGkWdTc"
      },
      "execution_count": 9,
      "outputs": []
    },
    {
      "cell_type": "markdown",
      "source": [
        "## Environment variables"
      ],
      "metadata": {
        "id": "LDrWb9l7YdWH"
      }
    },
    {
      "cell_type": "code",
      "source": [
        "use_gpu = True"
      ],
      "metadata": {
        "id": "c0oMRvvdYbjz"
      },
      "execution_count": 10,
      "outputs": []
    },
    {
      "cell_type": "code",
      "source": [
        "# Training Device\n",
        "if use_gpu:\n",
        "    device = torch.device(\"cuda:0\" if torch.cuda.is_available() else \"cpu\")\n",
        "    print('Device: GPU')\n",
        "else:\n",
        "    device = torch.device('cpu')\n",
        "    print('Device: CPU')"
      ],
      "metadata": {
        "id": "Wlm59bPEZqsL",
        "outputId": "e60e1fa2-f17b-461a-ff5d-446fddc5b5a7",
        "colab": {
          "base_uri": "https://localhost:8080/"
        }
      },
      "execution_count": 11,
      "outputs": [
        {
          "output_type": "stream",
          "name": "stdout",
          "text": [
            "Device: GPU\n"
          ]
        }
      ]
    },
    {
      "cell_type": "markdown",
      "source": [
        "## Data path"
      ],
      "metadata": {
        "id": "w1dmL5yeYlKD"
      }
    },
    {
      "cell_type": "code",
      "source": [
        "# Choose the dataset\n",
        "num_classes = 5 # Choices: {5, 6, 10}"
      ],
      "metadata": {
        "id": "QAcPBZEzB_pe"
      },
      "execution_count": 12,
      "outputs": []
    },
    {
      "cell_type": "code",
      "source": [
        "classes_5 = ['C-H', 'C-N', 'Mrk SB', 'sdA', 'sdB']\n",
        "classes_6 = ['C-H', 'C-N', 'Mrk Abs', 'Mrk SB', 'sdA', 'sdB']\n",
        "classes_10 = ['C Ba', 'C-H', 'C-N', 'C-R', 'Mrk Abs', 'Mrk AGN', 'Mrk SB', 'sdA', 'sdB', 'sdO']\n",
        "\n",
        "assert num_classes in {5, 6, 10}\n",
        "\n",
        "if num_classes == 10:\n",
        "    classes = classes_10\n",
        "    checkpoint_name = 'Dense_10_Focal_25_3_Final/139.pth'\n",
        "elif num_classes == 5:\n",
        "    classes = classes_5\n",
        "    checkpoint_name = 'Dense_5_High_Focal_25_3_Final/59.pth'\n",
        "else:\n",
        "    classes = classes_6\n",
        "    checkpoint_name = 'Dense_6_High_Focal_25_3_Final/136.pth'\n"
      ],
      "metadata": {
        "id": "-rCflbFY2_DC"
      },
      "execution_count": 13,
      "outputs": []
    },
    {
      "cell_type": "code",
      "source": [
        "# Datasets\n",
        "data_root = f'./data'\n",
        "\n",
        "if num_classes != 10:\n",
        "    new_data_root = f'./data_{num_classes}'\n",
        "    domains = ['test', 'train']\n",
        "\n",
        "    for domain in domains:\n",
        "        make_directory(f'{new_data_root}/{domain}')\n",
        "\n",
        "        for class_name in classes:\n",
        "            # make_directory(f'{new_data_root}/{domain}/{class_name}')\n",
        "            shutil.copytree(f'{data_root}/{domain}/{class_name}/', f'{new_data_root}/{domain}/{class_name}/')\n",
        "\n",
        "    data_root = new_data_root"
      ],
      "metadata": {
        "id": "4L7md1rR-81T"
      },
      "execution_count": 14,
      "outputs": []
    },
    {
      "cell_type": "code",
      "source": [
        "test_dir = f'{data_root}/test'\n",
        "# Optional\n",
        "train_dir = f'{data_root}/train'\n",
        "\n",
        "input_shape = (160, 50)"
      ],
      "metadata": {
        "id": "j5fmcR61Zqb8"
      },
      "execution_count": 15,
      "outputs": []
    },
    {
      "cell_type": "code",
      "source": [
        "print('Num classes:', num_classes)"
      ],
      "metadata": {
        "id": "Nx-qTrDFYrsZ",
        "outputId": "f86d41da-e679-4fac-95b7-d7616ba4326d",
        "colab": {
          "base_uri": "https://localhost:8080/"
        }
      },
      "execution_count": 16,
      "outputs": [
        {
          "output_type": "stream",
          "name": "stdout",
          "text": [
            "Num classes: 5\n"
          ]
        }
      ]
    },
    {
      "cell_type": "markdown",
      "source": [
        "## Project Parameters"
      ],
      "metadata": {
        "id": "wcv_2Zh-Yzej"
      }
    },
    {
      "cell_type": "code",
      "source": [
        "root_dir = os.path.abspath('./')"
      ],
      "metadata": {
        "id": "U57wJwzoYuIe"
      },
      "execution_count": 17,
      "outputs": []
    },
    {
      "cell_type": "code",
      "source": [
        "# Checkpoints are saved in Checkpoint folder\n",
        "checkpoint_path = f'{root_dir}/Checkpoint/{checkpoint_name}'"
      ],
      "metadata": {
        "id": "LmEV5CGiZLbf"
      },
      "execution_count": 18,
      "outputs": []
    },
    {
      "cell_type": "markdown",
      "source": [
        "## Testing Parameters"
      ],
      "metadata": {
        "id": "nUg88YN6ZOiY"
      }
    },
    {
      "cell_type": "code",
      "source": [
        "# Batch sizes\n",
        "test_batch_size = 16\n",
        "# Optional\n",
        "train_batch_size = 16"
      ],
      "metadata": {
        "id": "gCMKkvXOZQdC"
      },
      "execution_count": 19,
      "outputs": []
    },
    {
      "cell_type": "markdown",
      "source": [
        "## Data Loaders"
      ],
      "metadata": {
        "id": "nch6bjdFZanP"
      }
    },
    {
      "cell_type": "code",
      "source": [
        "test_data, test_classes, _ = load_data.load_images(test_dir, test_batch_size, 'test', _drop_last=False)\n",
        "# Optional\n",
        "train_data, _, _ = load_data.load_images(train_dir, train_batch_size, 'train', _drop_last=False)"
      ],
      "metadata": {
        "id": "tOWukrTQg4pW",
        "outputId": "ea9b0a28-cd91-46e2-c252-227d5b7d4a5b",
        "colab": {
          "base_uri": "https://localhost:8080/"
        }
      },
      "execution_count": 20,
      "outputs": [
        {
          "output_type": "stream",
          "name": "stdout",
          "text": [
            "Loading 443 images from ./data_5/test is over.\n",
            "Loading 2314 images from ./data_5/train is over.\n"
          ]
        }
      ]
    },
    {
      "cell_type": "markdown",
      "source": [
        "## Training Setup"
      ],
      "metadata": {
        "id": "LNK7UAw2Zjle"
      }
    },
    {
      "cell_type": "code",
      "source": [
        "# Model choices: arch = any(['default', 'default_prev', 'default_bn', 'mobilenet', 'resnet'])\n",
        "#   default: the proposed network\n",
        "#   default_bn: similar to the proposed, but with more BatchNorm layers\n",
        "#   default_prev: the network proposed in the previous work\n",
        "#   mobilenet: MobileNetV2\n",
        "#   resnet: Resnet\n",
        "\n",
        "net = models.Model(num_classes=num_classes, input_shape=input_shape, arch='default').to(device)"
      ],
      "metadata": {
        "id": "a6I_3cVBZcmw"
      },
      "execution_count": 21,
      "outputs": []
    },
    {
      "cell_type": "markdown",
      "source": [
        "### Layers"
      ],
      "metadata": {
        "id": "Ek0Qn8KHZwvF"
      }
    },
    {
      "cell_type": "code",
      "source": [
        "print(net)"
      ],
      "metadata": {
        "id": "X9aZQHi2Zlqu",
        "outputId": "b5e29f55-9822-4807-f395-7d0b4be9596e",
        "colab": {
          "base_uri": "https://localhost:8080/"
        }
      },
      "execution_count": 22,
      "outputs": [
        {
          "output_type": "stream",
          "name": "stdout",
          "text": [
            "Model(\n",
            "  (classifier): Classifier(\n",
            "    (act1): LeakyReLU(negative_slope=0.05)\n",
            "    (act2): Softmax(dim=1)\n",
            "    (conv11): Conv2d(1, 32, kernel_size=(3, 3), stride=(1, 1), padding=same)\n",
            "    (conv12): Conv2d(32, 32, kernel_size=(3, 3), stride=(1, 1), padding=same)\n",
            "    (conv13): Conv2d(32, 32, kernel_size=(3, 3), stride=(1, 1), padding=same)\n",
            "    (mp1): MaxPool2d(kernel_size=2, stride=2, padding=0, dilation=1, ceil_mode=False)\n",
            "    (bn1): BatchNorm2d(32, eps=1e-05, momentum=0.1, affine=True, track_running_stats=True)\n",
            "    (drop1): Dropout(p=0.2, inplace=False)\n",
            "    (conv21): Conv2d(32, 64, kernel_size=(3, 3), stride=(1, 1), padding=same)\n",
            "    (conv22): Conv2d(64, 64, kernel_size=(3, 3), stride=(1, 1), padding=same)\n",
            "    (conv23): Conv2d(64, 64, kernel_size=(3, 3), stride=(1, 1), padding=same)\n",
            "    (mp2): MaxPool2d(kernel_size=2, stride=2, padding=0, dilation=1, ceil_mode=False)\n",
            "    (bn2): BatchNorm2d(64, eps=1e-05, momentum=0.1, affine=True, track_running_stats=True)\n",
            "    (drop2): Dropout(p=0.2, inplace=False)\n",
            "    (conv31): Conv2d(64, 128, kernel_size=(3, 3), stride=(1, 1), padding=same)\n",
            "    (conv32): Conv2d(128, 128, kernel_size=(3, 3), stride=(1, 1), padding=same)\n",
            "    (conv33): Conv2d(128, 128, kernel_size=(3, 3), stride=(1, 1), padding=same)\n",
            "    (mp3): MaxPool2d(kernel_size=2, stride=2, padding=0, dilation=1, ceil_mode=False)\n",
            "    (bn3): BatchNorm2d(128, eps=1e-05, momentum=0.1, affine=True, track_running_stats=True)\n",
            "    (drop3): Dropout(p=0.3, inplace=False)\n",
            "    (conv41): Conv2d(128, 256, kernel_size=(3, 3), stride=(1, 1), padding=same)\n",
            "    (conv42): Conv2d(256, 256, kernel_size=(3, 3), stride=(1, 1), padding=same)\n",
            "    (conv43): Conv2d(256, 256, kernel_size=(3, 3), stride=(1, 1), padding=same)\n",
            "    (mp4): MaxPool2d(kernel_size=2, stride=2, padding=0, dilation=1, ceil_mode=False)\n",
            "    (bn4): BatchNorm2d(256, eps=1e-05, momentum=0.1, affine=True, track_running_stats=True)\n",
            "    (fc1): Linear(in_features=7680, out_features=256, bias=True)\n",
            "    (drop4): Dropout(p=0.5, inplace=False)\n",
            "    (fc2): Linear(in_features=256, out_features=5, bias=True)\n",
            "  )\n",
            ")\n"
          ]
        }
      ]
    },
    {
      "cell_type": "markdown",
      "source": [
        "### Output Summary"
      ],
      "metadata": {
        "id": "nWmqXZWVZ0rr"
      }
    },
    {
      "cell_type": "code",
      "source": [
        "summary(net, (1, 160, 50))"
      ],
      "metadata": {
        "id": "5h_PfFRxZxzd",
        "outputId": "571e5a8f-7aad-45b2-e08b-315ce089edc8",
        "colab": {
          "base_uri": "https://localhost:8080/"
        }
      },
      "execution_count": 23,
      "outputs": [
        {
          "output_type": "stream",
          "name": "stdout",
          "text": [
            "----------------------------------------------------------------\n",
            "        Layer (type)               Output Shape         Param #\n",
            "================================================================\n",
            "            Conv2d-1          [-1, 32, 160, 50]             320\n",
            "         LeakyReLU-2          [-1, 32, 160, 50]               0\n",
            "            Conv2d-3          [-1, 32, 160, 50]           9,248\n",
            "         LeakyReLU-4          [-1, 32, 160, 50]               0\n",
            "            Conv2d-5          [-1, 32, 160, 50]           9,248\n",
            "         LeakyReLU-6          [-1, 32, 160, 50]               0\n",
            "         MaxPool2d-7           [-1, 32, 80, 25]               0\n",
            "       BatchNorm2d-8           [-1, 32, 80, 25]              64\n",
            "           Dropout-9           [-1, 32, 80, 25]               0\n",
            "           Conv2d-10           [-1, 64, 80, 25]          18,496\n",
            "        LeakyReLU-11           [-1, 64, 80, 25]               0\n",
            "           Conv2d-12           [-1, 64, 80, 25]          36,928\n",
            "        LeakyReLU-13           [-1, 64, 80, 25]               0\n",
            "           Conv2d-14           [-1, 64, 80, 25]          36,928\n",
            "        LeakyReLU-15           [-1, 64, 80, 25]               0\n",
            "        MaxPool2d-16           [-1, 64, 40, 12]               0\n",
            "      BatchNorm2d-17           [-1, 64, 40, 12]             128\n",
            "          Dropout-18           [-1, 64, 40, 12]               0\n",
            "           Conv2d-19          [-1, 128, 40, 12]          73,856\n",
            "        LeakyReLU-20          [-1, 128, 40, 12]               0\n",
            "           Conv2d-21          [-1, 128, 40, 12]         147,584\n",
            "        LeakyReLU-22          [-1, 128, 40, 12]               0\n",
            "           Conv2d-23          [-1, 128, 40, 12]         147,584\n",
            "        LeakyReLU-24          [-1, 128, 40, 12]               0\n",
            "        MaxPool2d-25           [-1, 128, 20, 6]               0\n",
            "      BatchNorm2d-26           [-1, 128, 20, 6]             256\n",
            "           Conv2d-27           [-1, 256, 20, 6]         295,168\n",
            "        LeakyReLU-28           [-1, 256, 20, 6]               0\n",
            "           Conv2d-29           [-1, 256, 20, 6]         590,080\n",
            "        LeakyReLU-30           [-1, 256, 20, 6]               0\n",
            "           Conv2d-31           [-1, 256, 20, 6]         590,080\n",
            "        LeakyReLU-32           [-1, 256, 20, 6]               0\n",
            "        MaxPool2d-33           [-1, 256, 10, 3]               0\n",
            "      BatchNorm2d-34           [-1, 256, 10, 3]             512\n",
            "          Dropout-35                 [-1, 7680]               0\n",
            "           Linear-36                  [-1, 256]       1,966,336\n",
            "        LeakyReLU-37                  [-1, 256]               0\n",
            "          Dropout-38                  [-1, 256]               0\n",
            "           Linear-39                    [-1, 5]           1,285\n",
            "       Classifier-40                    [-1, 5]               0\n",
            "================================================================\n",
            "Total params: 3,924,101\n",
            "Trainable params: 3,924,101\n",
            "Non-trainable params: 0\n",
            "----------------------------------------------------------------\n",
            "Input size (MB): 0.03\n",
            "Forward/backward pass size (MB): 24.38\n",
            "Params size (MB): 14.97\n",
            "Estimated Total Size (MB): 39.38\n",
            "----------------------------------------------------------------\n"
          ]
        }
      ]
    },
    {
      "cell_type": "code",
      "source": [
        "# Setting the network up for evaluation\n",
        "net.load_state_dict(torch.load(checkpoint_path))\n",
        "net.eval()"
      ],
      "metadata": {
        "id": "WQkT7FnYZ2in",
        "outputId": "cbbe62c7-025a-4a89-e600-ec6ca47b0abd",
        "colab": {
          "base_uri": "https://localhost:8080/"
        }
      },
      "execution_count": 24,
      "outputs": [
        {
          "output_type": "execute_result",
          "data": {
            "text/plain": [
              "Model(\n",
              "  (classifier): Classifier(\n",
              "    (act1): LeakyReLU(negative_slope=0.05)\n",
              "    (act2): Softmax(dim=1)\n",
              "    (conv11): Conv2d(1, 32, kernel_size=(3, 3), stride=(1, 1), padding=same)\n",
              "    (conv12): Conv2d(32, 32, kernel_size=(3, 3), stride=(1, 1), padding=same)\n",
              "    (conv13): Conv2d(32, 32, kernel_size=(3, 3), stride=(1, 1), padding=same)\n",
              "    (mp1): MaxPool2d(kernel_size=2, stride=2, padding=0, dilation=1, ceil_mode=False)\n",
              "    (bn1): BatchNorm2d(32, eps=1e-05, momentum=0.1, affine=True, track_running_stats=True)\n",
              "    (drop1): Dropout(p=0.2, inplace=False)\n",
              "    (conv21): Conv2d(32, 64, kernel_size=(3, 3), stride=(1, 1), padding=same)\n",
              "    (conv22): Conv2d(64, 64, kernel_size=(3, 3), stride=(1, 1), padding=same)\n",
              "    (conv23): Conv2d(64, 64, kernel_size=(3, 3), stride=(1, 1), padding=same)\n",
              "    (mp2): MaxPool2d(kernel_size=2, stride=2, padding=0, dilation=1, ceil_mode=False)\n",
              "    (bn2): BatchNorm2d(64, eps=1e-05, momentum=0.1, affine=True, track_running_stats=True)\n",
              "    (drop2): Dropout(p=0.2, inplace=False)\n",
              "    (conv31): Conv2d(64, 128, kernel_size=(3, 3), stride=(1, 1), padding=same)\n",
              "    (conv32): Conv2d(128, 128, kernel_size=(3, 3), stride=(1, 1), padding=same)\n",
              "    (conv33): Conv2d(128, 128, kernel_size=(3, 3), stride=(1, 1), padding=same)\n",
              "    (mp3): MaxPool2d(kernel_size=2, stride=2, padding=0, dilation=1, ceil_mode=False)\n",
              "    (bn3): BatchNorm2d(128, eps=1e-05, momentum=0.1, affine=True, track_running_stats=True)\n",
              "    (drop3): Dropout(p=0.3, inplace=False)\n",
              "    (conv41): Conv2d(128, 256, kernel_size=(3, 3), stride=(1, 1), padding=same)\n",
              "    (conv42): Conv2d(256, 256, kernel_size=(3, 3), stride=(1, 1), padding=same)\n",
              "    (conv43): Conv2d(256, 256, kernel_size=(3, 3), stride=(1, 1), padding=same)\n",
              "    (mp4): MaxPool2d(kernel_size=2, stride=2, padding=0, dilation=1, ceil_mode=False)\n",
              "    (bn4): BatchNorm2d(256, eps=1e-05, momentum=0.1, affine=True, track_running_stats=True)\n",
              "    (fc1): Linear(in_features=7680, out_features=256, bias=True)\n",
              "    (drop4): Dropout(p=0.5, inplace=False)\n",
              "    (fc2): Linear(in_features=256, out_features=5, bias=True)\n",
              "  )\n",
              ")"
            ]
          },
          "metadata": {},
          "execution_count": 24
        }
      ]
    },
    {
      "cell_type": "code",
      "source": [
        "print('\\nEvaluation started:')\n",
        "\n",
        "train_score = evaluate(dataloader=train_data, model=net, domain='train', device=device)\n",
        "test_score = evaluate(dataloader=test_data, model=net, device=device, classes=test_classes)"
      ],
      "metadata": {
        "id": "cETpcJwBZ35K",
        "outputId": "caad5fc2-a979-4e33-eaed-908687bf71ef",
        "colab": {
          "base_uri": "https://localhost:8080/"
        }
      },
      "execution_count": 25,
      "outputs": [
        {
          "output_type": "stream",
          "name": "stdout",
          "text": [
            "\n",
            "Evaluation started:\n",
            "Accuracy of the network on the train images: 88.46 %\n",
            "Accuracy of the network on the test images: 88.71 %\n",
            "              precision    recall  f1-score   support\n",
            "\n",
            "         C-H       0.90      0.93      0.92       117\n",
            "         C-N       0.67      0.57      0.62         7\n",
            "      Mrk SB       0.91      0.96      0.93       132\n",
            "         sdA       0.67      0.39      0.49        31\n",
            "         sdB       0.89      0.90      0.90       156\n",
            "\n",
            "    accuracy                           0.89       443\n",
            "   macro avg       0.81      0.75      0.77       443\n",
            "weighted avg       0.88      0.89      0.88       443\n",
            "\n"
          ]
        }
      ]
    },
    {
      "cell_type": "code",
      "source": [],
      "metadata": {
        "id": "xsCknLVloHIm"
      },
      "execution_count": 25,
      "outputs": []
    }
  ]
}